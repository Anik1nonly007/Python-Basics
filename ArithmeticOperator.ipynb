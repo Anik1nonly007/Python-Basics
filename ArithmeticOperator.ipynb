{
 "cells": [
  {
   "cell_type": "markdown",
   "source": [
    "##Operators"
   ],
   "metadata": {}
  },
  {
   "cell_type": "code",
   "execution_count": 20,
   "source": [
    "#Arithmetic Operator\r\n",
    "\r\n",
    "2+3\r\n",
    "2-3\r\n",
    "2*3\r\n",
    "2/3#normal devision or floating point devision \r\n",
    "2//3#integer devision operator or floor/float devision\r\n",
    "2**4 #use power calculate\r\n",
    "5%3\r\n",
    "\r\n"
   ],
   "outputs": [
    {
     "output_type": "execute_result",
     "data": {
      "text/plain": [
       "2"
      ]
     },
     "metadata": {},
     "execution_count": 20
    }
   ],
   "metadata": {}
  },
  {
   "cell_type": "code",
   "execution_count": 4,
   "source": [
    "#Comparison Operator\r\n",
    "1>2\r\n",
    "1<2\r\n",
    "1==2\r\n",
    "1>=2\r\n",
    "1<=2\r\n",
    "1!=2\r\n",
    "\r\n",
    "\r\n"
   ],
   "outputs": [
    {
     "output_type": "execute_result",
     "data": {
      "text/plain": [
       "True"
      ]
     },
     "metadata": {},
     "execution_count": 4
    }
   ],
   "metadata": {}
  },
  {
   "cell_type": "code",
   "execution_count": 19,
   "source": [
    "#logical Operator\r\n",
    "\r\n",
    "True and True\r\n",
    "True and False\r\n",
    "False and True\r\n",
    "False & False\r\n",
    "\r\n",
    "True or True\r\n",
    "True or False\r\n",
    "False or True\r\n",
    "False or False\r\n",
    "\r\n",
    "1>1 and 1<1\r\n",
    "1<2 and 2 > 1\r\n",
    "not False\r\n",
    "\r\n"
   ],
   "outputs": [
    {
     "output_type": "execute_result",
     "data": {
      "text/plain": [
       "True"
      ]
     },
     "metadata": {},
     "execution_count": 19
    }
   ],
   "metadata": {}
  },
  {
   "cell_type": "code",
   "execution_count": 13,
   "source": [
    "#problem\r\n",
    "# Bitwise Operator\r\n",
    "#        8   4   2   1\r\n",
    "# 2      0   0   1   0\r\n",
    "# 5      0   1   0   1\r\n",
    "#2 & 5   0   0   0   0\r\n",
    "2 & 5  # if i use and then its shows 5, why? \r\n",
    "2 and 5\r\n",
    "\r\n",
    "#        8   4   2   1\r\n",
    "# 2      0   0   1   0\r\n",
    "# 6      0   1   1   0\r\n",
    "#2 & 6   0   0   1   0\r\n",
    "\r\n",
    "#        8   4   2   1\r\n",
    "# 2      0   0   1   0\r\n",
    "# 6      0   1   1   0\r\n",
    "#2 ! 6   0   1   1   0\r\n",
    "2 | 6\r\n",
    "2 or 6  # if i use or then its shows 2, why? \r\n",
    "#        8   4   2   1\r\n",
    "# 3      0   0   1   1\r\n",
    "# 9      1   0   0   1\r\n",
    "#3 | 9   1   0   1   1\r\n",
    "3 | 9 \r\n",
    "3 or 9 #why result 3?\r\n",
    "\r\n",
    "# ~ tilde simble not operation\r\n",
    "#               2   1\r\n",
    "#2              1   0\r\n",
    "#~2             0   1\r\n",
    "#                   1\r\n",
    "#               1   1\r\n",
    "~2\r\n",
    "#               4   2   1\r\n",
    "#3              0   1   1\r\n",
    "#~3             1   0   0\r\n",
    "#                       1\r\n",
    "#               1   0   1\r\n",
    "~3          # how -4\r\n",
    "\r\n",
    "#XOR\r\n",
    "# True xor True => False\r\n",
    "# True xor False => True\r\n",
    "# False xor True => True\r\n",
    "# False xor False => False\r\n",
    "\r\n",
    "#        8   4   2   1\r\n",
    "# 2      0   0   1   0\r\n",
    "# 5      0   1   0   1\r\n",
    "# 2^5    0   1   1   1\r\n",
    "2^5\r\n",
    "\r\n",
    "## (Left Shift>>) & (Right Shift <<)\r\n",
    "\r\n",
    "#        8   4   2   1\r\n",
    "#Right Shift <<\r\n",
    "# 2      0   0   1   0\r\n",
    "# 2<<1   0   1   0   0\r\n",
    "2<<1\r\n",
    "# 2<<2   1   0   0   0\r\n",
    "2<<2\r\n",
    "#Left Shift>>\r\n",
    "# 2      0   0   1   0\r\n",
    "# 2>>1   0   0   0   1\r\n",
    "2>>1\r\n",
    "# 2>>2   0   0   0   0\r\n",
    "2>>2\r\n",
    "\r\n",
    "\r\n"
   ],
   "outputs": [
    {
     "output_type": "execute_result",
     "data": {
      "text/plain": [
       "0"
      ]
     },
     "metadata": {},
     "execution_count": 13
    }
   ],
   "metadata": {}
  },
  {
   "cell_type": "code",
   "execution_count": 19,
   "source": [
    "# Special Assignment Operator\r\n",
    "num = 2\r\n",
    "num += 2\r\n",
    "num -= 2\r\n",
    "num *= 2\r\n",
    "num /=2\r\n",
    "num **= 2\r\n",
    "num"
   ],
   "outputs": [
    {
     "output_type": "execute_result",
     "data": {
      "text/plain": [
       "4.0"
      ]
     },
     "metadata": {},
     "execution_count": 19
    }
   ],
   "metadata": {}
  },
  {
   "cell_type": "code",
   "execution_count": 64,
   "source": [
    "# Special Operator\r\n",
    "\"i\" in \"Anik\"\r\n",
    "\r\n",
    "# is operator use for full same or not also check same type or not\r\n",
    "a=2\r\n",
    "b=2.0\r\n",
    "a is b"
   ],
   "outputs": [
    {
     "output_type": "execute_result",
     "data": {
      "text/plain": [
       "True"
      ]
     },
     "metadata": {},
     "execution_count": 64
    }
   ],
   "metadata": {}
  },
  {
   "cell_type": "markdown",
   "source": [
    "# Data Structure\r\n",
    "## Data Structure"
   ],
   "metadata": {}
  },
  {
   "cell_type": "code",
   "execution_count": 24,
   "source": [
    "# List []\r\n",
    "height = [ 5 , 6 , 5 , 1 , 2 , 5.6 , 9.3 , 2]\r\n",
    "# Accessing Data\r\n",
    "height[0]\r\n",
    "height[-2]\r\n",
    "\r\n",
    "# Length\r\n",
    "len(height)\r\n",
    "\r\n",
    "#Slicing\r\n",
    "height[1:4]\r\n",
    "height[1:5:2]\r\n",
    "height[1:5:3]\r\n",
    "height[2::3]\r\n",
    "height[::3]\r\n",
    "height[::-2]\r\n",
    "\"Anik\" [::-1]\r\n",
    "\r\n",
    "#Value Update\r\n",
    "height[1]=4.5\r\n",
    "height\r\n",
    "\r\n",
    "#Function\r\n",
    "height.append(4.7)#Add value at the end\r\n",
    "#height.append([12 , 65 , 13])# Add full list\r\n",
    "height.insert(0,3)#We can Add value at any index\r\n",
    "height\r\n",
    "\r\n",
    "#add another list\r\n",
    "height.extend([12 , 65 , 13])\r\n",
    "height + [12 , 65 , 13] #add another list 2nd way\r\n",
    "height.remove(5)#remove 1st 5 And work on values\r\n",
    "height.index(5)# find value 5 at which index?\r\n",
    "height.pop()#pop or remove last index and Works on index no\r\n",
    "height.pop(2)#remove 2nd index\r\n",
    "height.sort()#sort in ascending order\r\n",
    "height.sort(reverse=True)#sort in descending order\r\n",
    "height.count(2)\r\n",
    "[0] <= [0]\r\n",
    "[2] * 6\r\n",
    "\r\n",
    "\r\n",
    "\r\n",
    "\r\n"
   ],
   "outputs": [
    {
     "output_type": "execute_result",
     "data": {
      "text/plain": [
       "[2, 2, 2, 2, 2, 2]"
      ]
     },
     "metadata": {},
     "execution_count": 24
    }
   ],
   "metadata": {}
  },
  {
   "cell_type": "code",
   "execution_count": 45,
   "source": [
    "#Tuple ()\r\n",
    "heights = (6 , 5 , 1 , 2 , 5.6 , 9.3 , 2)\r\n",
    "#heights[0]=4 # We can not update value in tuple\r\n",
    "# del heights[0] #We can not delete value in tuple\r\n",
    "heights[1:4:2]\r\n",
    "heights.count(2)\r\n",
    "\r\n",
    "name = \"Anik\"\r\n",
    "#name[4]=\"a\" #We can not update value in string\r\n",
    "name"
   ],
   "outputs": [
    {
     "output_type": "execute_result",
     "data": {
      "text/plain": [
       "'Anik'"
      ]
     },
     "metadata": {},
     "execution_count": 45
    }
   ],
   "metadata": {}
  }
 ],
 "metadata": {
  "orig_nbformat": 4,
  "language_info": {
   "name": "python",
   "version": "3.9.6",
   "mimetype": "text/x-python",
   "codemirror_mode": {
    "name": "ipython",
    "version": 3
   },
   "pygments_lexer": "ipython3",
   "nbconvert_exporter": "python",
   "file_extension": ".py"
  },
  "kernelspec": {
   "name": "python3",
   "display_name": "Python 3.9.6 64-bit"
  },
  "interpreter": {
   "hash": "6f3286a94e22de8ff5948a9c103fc84fc0d73fd4e82b66075ca633ecac3f2b43"
  }
 },
 "nbformat": 4,
 "nbformat_minor": 2
}