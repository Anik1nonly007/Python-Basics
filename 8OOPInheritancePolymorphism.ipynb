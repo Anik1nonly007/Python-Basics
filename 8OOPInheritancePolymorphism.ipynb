{
 "cells": [
  {
   "cell_type": "code",
   "execution_count": null,
   "metadata": {},
   "outputs": [],
   "source": [
    "class human:\n",
    "\n",
    "    eyes=2\n",
    "    legs=2\n",
    "\n",
    "    __hands=2\n",
    "\n",
    "    def __init__(self,name):\n",
    "        self.name=name#instance variable\n",
    "        self.__phn=\"0188273\"\n",
    "        print(\"Initialized.....\")\n",
    "        \n",
    "\n",
    "    def walking(self):\n",
    "        return \"Walking\"\n",
    "\n",
    "    def speaking(self):\n",
    "        return f\"{self.name} Speaking\"\n",
    "    def getEyes(self):\n",
    "        return \"Eyes\", __class__.eyes\n",
    "    \n",
    "    @property\n",
    "    # def phone(self):\n",
    "    def phn(self):\n",
    "        print(\"getting phn no\")\n",
    "        return self.__phn\n",
    "    \n",
    "    @phn.setter\n",
    "    def phn(self,val):\n",
    "        print(\"setting phn no\")\n",
    "        self.__phn= val\n",
    "    \n",
    "    @phn.deleter\n",
    "    def phn(self):\n",
    "        print(\"deleting phone no\")\n",
    "        del self.__phn\n",
    "    \n",
    "    \n",
    " \n",
    "    @classmethod\n",
    "    def anyName(cls):\n",
    "        print(f\"any,eyes {cls.eyes}\")\n",
    "    \n",
    "    @staticmethod\n",
    "    def static():\n",
    "        return True\n",
    "    @staticmethod\n",
    "    def add(a,b):\n",
    "        return a+b\n"
   ]
  },
  {
   "cell_type": "code",
   "execution_count": null,
   "metadata": {},
   "outputs": [],
   "source": [
    "anikkk = human(\"Anik Ch\")\n",
    "anikkk.speaking()"
   ]
  },
  {
   "cell_type": "code",
   "execution_count": null,
   "metadata": {},
   "outputs": [],
   "source": [
    "#Creating Object\n",
    "shuvo = human(\"Partner\")\n",
    "\n",
    "#shuvo.phn\n",
    "shuvo.phn='398274'\n",
    "shuvo.phn\n",
    "print(type(shuvo.phn))\n",
    "del shuvo.phn\n",
    "#shuvo.phn\n",
    "\n",
    "human.static()\n",
    "human.add(3,2)\n",
    "shuvo.speaking()\n",
    "human.anyName()\n"
   ]
  },
  {
   "cell_type": "code",
   "execution_count": null,
   "metadata": {},
   "outputs": [],
   "source": [
    "#Single Inheritance\n",
    "class Male(human):\n",
    "    gender='Male'\n",
    "\n",
    "    #Constructor\n",
    "    def __init__(self, name:str, age:int):\n",
    "        super().__init__(name)\n",
    "        self.age=age\n",
    "\n",
    "    #def getGender(self):\n",
    "        #return __class__.__gender,super().getEyes(),self.age,super().phn\n",
    "\n",
    "#hierarchical\n",
    "class feMale(human):#When super class inherite 2 class then its call hierarchical\n",
    "    gender='Female'\n",
    "\n",
    "    #Constructor\n",
    "    def __init__(self, name:str, age:int):\n",
    "        super().__init__(name)\n",
    "        self.age=age\n",
    "\n",
    "    #def getGender(self):\n",
    "        #return f\"{__class__.__gender}\",super().getEyes()"
   ]
  },
  {
   "cell_type": "code",
   "execution_count": null,
   "metadata": {},
   "outputs": [],
   "source": [
    "#Creating Object\n",
    "InheObjMa=Male('Anik',26)\n",
    "InheObjFe=feMale('Anika',19)\n",
    "\n",
    "#InheObj.__gender\n",
    "#print(InheObjMa.getGender()) #commenting getGender Function\n",
    "#InheObj.getEyes(),InheObj.legs\n",
    "print(InheObjMa.gender,InheObjMa.name)\n",
    "\n",
    "print(InheObjFe.gender)\n"
   ]
  },
  {
   "cell_type": "code",
   "execution_count": 142,
   "metadata": {},
   "outputs": [],
   "source": [
    "#Multiple Inheritance\n",
    "class child(feMale,Male):\n",
    "    def __init__(self, name: str, age: int, birthYr: int):\n",
    "        super().__init__(name,age);self.birthYr=birthYr    #prb its not working\n",
    "        self.name=name;self.age=age;self.birthYr=birthYr"
   ]
  },
  {
   "cell_type": "code",
   "execution_count": 143,
   "metadata": {},
   "outputs": [
    {
     "data": {
      "text/plain": [
       "('Ana', 'Female')"
      ]
     },
     "execution_count": 143,
     "metadata": {},
     "output_type": "execute_result"
    }
   ],
   "source": [
    "InheObjCh=child(\"Ana\",1,2020)\n",
    "\n",
    "InheObjCh.name,InheObjCh.gender"
   ]
  },
  {
   "cell_type": "code",
   "execution_count": 154,
   "metadata": {},
   "outputs": [
    {
     "data": {
      "text/plain": [
       "12"
      ]
     },
     "execution_count": 154,
     "metadata": {},
     "output_type": "execute_result"
    }
   ],
   "source": [
    "#polymorphism\n",
    "#Compile time,Runtime poly  \n",
    "#male:jobholder/employee,father,passenger role\n",
    "\n",
    "def add(a,b):\n",
    "    return a+b\n",
    "\n",
    "def add(a,b,c):#OverRiding\n",
    "    return a+b+c\n",
    "add(2,3,7 )"
   ]
  },
  {
   "cell_type": "code",
   "execution_count": 152,
   "metadata": {},
   "outputs": [
    {
     "data": {
      "text/plain": [
       "5.567"
      ]
     },
     "execution_count": 152,
     "metadata": {},
     "output_type": "execute_result"
    }
   ],
   "source": [
    "def add(a,b,c=0):#Compile time poly # overloading not use in python,if use float then gave float result\n",
    "    return a+b+c\n",
    "add(2,3.567 )"
   ]
  },
  {
   "cell_type": "code",
   "execution_count": 159,
   "metadata": {},
   "outputs": [],
   "source": [
    "#polymorphism in class\n",
    "class addTwoN:\n",
    "    def __init__(self,num1,num2):\n",
    "        self.num1=num1\n",
    "        self.num2=num2\n",
    "    \n",
    "    def sum(self):\n",
    "        return self.num1 + self.num2\n",
    "\n",
    "class addThreeNum(addTwoN):\n",
    "    def __init__(self,num1,num2,num3):\n",
    "        super().__init__(num1,num2)\n",
    "        self.num3=num3\n",
    "    \n",
    "    def sum(self):\n",
    "        return self.num1+self.num2+self.num3"
   ]
  },
  {
   "cell_type": "code",
   "execution_count": 161,
   "metadata": {},
   "outputs": [
    {
     "data": {
      "text/plain": [
       "11"
      ]
     },
     "execution_count": 161,
     "metadata": {},
     "output_type": "execute_result"
    }
   ],
   "source": [
    "#obj = addTwoN(2,3)\n",
    "#obj.sum()\n",
    "\n",
    "obj = addThreeNum(2,9,5)#prb  if I gave 2 numbers, how many options do I have for implementation?\n",
    "obj.sum()"
   ]
  },
  {
   "cell_type": "code",
   "execution_count": 165,
   "metadata": {},
   "outputs": [],
   "source": [
    "#Special Functions\n",
    "class FacebookAcc:\n",
    "\n",
    "    def __init__(self,name:str,age:int):\n",
    "        self.name=name\n",
    "        self.age=age\n",
    "\n",
    "    def __gt__(self,other):\n",
    "        return self.age>other.age\n",
    "    \n",
    "    def __eq__(self, other):\n",
    "        return (self.name==other.name) and (self.age==other.age)\n",
    "    \n",
    "    def __add__(self,other):\n",
    "        return self.age+other.age\n",
    "    \n",
    "    #information handling\n",
    "    @classmethod\n",
    "    def FacebookAcc(clss,infor:str):\n",
    "        infor=infor.split('-')\n",
    "        return clss(infor[0] , int(infor[1])) # prb why i need to assign new var\n",
    "\n",
    "\n"
   ]
  },
  {
   "cell_type": "code",
   "execution_count": 167,
   "metadata": {},
   "outputs": [
    {
     "name": "stdout",
     "output_type": "stream",
     "text": [
      "False True 54\n"
     ]
    },
    {
     "data": {
      "text/plain": [
       "(50, 'anikkk ')"
      ]
     },
     "execution_count": 167,
     "metadata": {},
     "output_type": "execute_result"
    }
   ],
   "source": [
    "anik=FacebookAcc('Anik',27)\n",
    "shuvo=FacebookAcc('Anik',27)\n",
    "\n",
    "#not shuvo < anik \n",
    "print(shuvo > anik,shuvo==anik,shuvo+anik)\n",
    "#anik.age<shuvo.age\n",
    "#shuvo!=anik\n",
    "\n",
    "objc=FacebookAcc.FacebookAcc( 'anikkk - 50') \n",
    "\n",
    "objc.age,objc.name"
   ]
  },
  {
   "cell_type": "code",
   "execution_count": 164,
   "metadata": {},
   "outputs": [
    {
     "data": {
      "text/plain": [
       "(50, 'anikkk ')"
      ]
     },
     "execution_count": 164,
     "metadata": {},
     "output_type": "execute_result"
    }
   ],
   "source": [
    "objc=FacebookAcc.FacebookAcc( 'anikkk - 50') \n",
    "\n",
    "objc.age,objc.name\n"
   ]
  }
 ],
 "metadata": {
  "interpreter": {
   "hash": "6f3286a94e22de8ff5948a9c103fc84fc0d73fd4e82b66075ca633ecac3f2b43"
  },
  "kernelspec": {
   "display_name": "Python 3.9.6 64-bit",
   "name": "python3"
  },
  "language_info": {
   "codemirror_mode": {
    "name": "ipython",
    "version": 3
   },
   "file_extension": ".py",
   "mimetype": "text/x-python",
   "name": "python",
   "nbconvert_exporter": "python",
   "pygments_lexer": "ipython3",
   "version": "3.9.6"
  },
  "orig_nbformat": 4
 },
 "nbformat": 4,
 "nbformat_minor": 2
}
