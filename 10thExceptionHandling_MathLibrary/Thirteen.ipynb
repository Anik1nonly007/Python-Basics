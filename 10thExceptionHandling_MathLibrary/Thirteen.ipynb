{
 "cells": [
  {
   "cell_type": "markdown",
   "metadata": {},
   "source": [
    "Without import os i can access command\n",
    "I want to increment file name one by one  using loop"
   ]
  },
  {
   "cell_type": "code",
   "execution_count": 2,
   "metadata": {},
   "outputs": [
    {
     "name": "stdout",
     "output_type": "stream",
     "text": [
      "0.5\n",
      "Finished\n"
     ]
    }
   ],
   "source": [
    "num=3\n",
    "Devider = int(input())\n",
    "\n",
    "result =num/Devider\n",
    "print(result)\n",
    "print('Finished')"
   ]
  },
  {
   "cell_type": "code",
   "execution_count": 4,
   "metadata": {},
   "outputs": [
    {
     "ename": "ValueError",
     "evalue": "invalid literal for int() with base 10: 'g'",
     "output_type": "error",
     "traceback": [
      "\u001b[1;31m---------------------------------------------------------------------------\u001b[0m",
      "\u001b[1;31mValueError\u001b[0m                                Traceback (most recent call last)",
      "\u001b[1;32md:\\Anik\\Personal\\Python\\practise\\13thClass\\Thirteen.ipynb Cell 3'\u001b[0m in \u001b[0;36m<module>\u001b[1;34m\u001b[0m\n\u001b[0;32m      <a href='vscode-notebook-cell:/d%3A/Anik/Personal/Python/practise/13thClass/Thirteen.ipynb#ch0000002?line=0'>1</a>\u001b[0m \u001b[39m#Exception\u001b[39;00m\n\u001b[0;32m      <a href='vscode-notebook-cell:/d%3A/Anik/Personal/Python/practise/13thClass/Thirteen.ipynb#ch0000002?line=1'>2</a>\u001b[0m \u001b[39m#try Except\u001b[39;00m\n\u001b[0;32m      <a href='vscode-notebook-cell:/d%3A/Anik/Personal/Python/practise/13thClass/Thirteen.ipynb#ch0000002?line=2'>3</a>\u001b[0m num\u001b[39m=\u001b[39m\u001b[39m3\u001b[39m\n\u001b[1;32m----> <a href='vscode-notebook-cell:/d%3A/Anik/Personal/Python/practise/13thClass/Thirteen.ipynb#ch0000002?line=3'>4</a>\u001b[0m Devider \u001b[39m=\u001b[39m \u001b[39mint\u001b[39;49m(\u001b[39minput\u001b[39;49m())\n\u001b[0;32m      <a href='vscode-notebook-cell:/d%3A/Anik/Personal/Python/practise/13thClass/Thirteen.ipynb#ch0000002?line=4'>5</a>\u001b[0m \u001b[39mtry\u001b[39;00m:\n\u001b[0;32m      <a href='vscode-notebook-cell:/d%3A/Anik/Personal/Python/practise/13thClass/Thirteen.ipynb#ch0000002?line=5'>6</a>\u001b[0m     result \u001b[39m=\u001b[39mnum\u001b[39m/\u001b[39mDevider\n",
      "\u001b[1;31mValueError\u001b[0m: invalid literal for int() with base 10: 'g'"
     ]
    }
   ],
   "source": [
    "#Exception\n",
    "#try Except\n",
    "num=3\n",
    "Devider = int(input())\n",
    "try:\n",
    "    result =num/Devider\n",
    "    print(result)\n",
    "except Exception as e:\n",
    "   print(e)\n",
    "print('Finished')"
   ]
  },
  {
   "cell_type": "code",
   "execution_count": 5,
   "metadata": {},
   "outputs": [
    {
     "name": "stdout",
     "output_type": "stream",
     "text": [
      "ValueError invalid literal for int() with base 10: 'h'\n",
      "Always Show\n",
      "Finished\n"
     ]
    }
   ],
   "source": [
    "#Specified Errors\n",
    "num=3\n",
    "try:\n",
    "    Devider = int(input())\n",
    "    result =num/Devider\n",
    "    print(result)\n",
    "except ValueError as e:\n",
    "    print('ValueError' , e)\n",
    "except ZeroDivisionError as e:\n",
    "    print('ArithmeticError' , e)\n",
    "finally:\n",
    "    print(('Always Show'))\n",
    "\n",
    "print('Finished')"
   ]
  },
  {
   "cell_type": "code",
   "execution_count": 6,
   "metadata": {},
   "outputs": [
    {
     "name": "stdout",
     "output_type": "stream",
     "text": [
      "[Errno 17] File exists: 'file.txt' file not Created\n",
      "file created\n"
     ]
    },
    {
     "ename": "FileExistsError",
     "evalue": "[Errno 17] File exists: 'file1.txt'",
     "output_type": "error",
     "traceback": [
      "\u001b[1;31m---------------------------------------------------------------------------\u001b[0m",
      "\u001b[1;31mFileExistsError\u001b[0m                           Traceback (most recent call last)",
      "\u001b[1;32md:\\Anik\\Personal\\Python\\practise\\13thClass\\Thirteen.ipynb Cell 5'\u001b[0m in \u001b[0;36m<module>\u001b[1;34m\u001b[0m\n\u001b[0;32m      <a href='vscode-notebook-cell:/d%3A/Anik/Personal/Python/practise/13thClass/Thirteen.ipynb#ch0000004?line=3'>4</a>\u001b[0m \u001b[39mtry\u001b[39;00m:\n\u001b[1;32m----> <a href='vscode-notebook-cell:/d%3A/Anik/Personal/Python/practise/13thClass/Thirteen.ipynb#ch0000004?line=4'>5</a>\u001b[0m     \u001b[39mwith\u001b[39;00m \u001b[39mopen\u001b[39;49m(fileName, \u001b[39m'\u001b[39;49m\u001b[39mx\u001b[39;49m\u001b[39m'\u001b[39;49m) \u001b[39mas\u001b[39;00m f:\n\u001b[0;32m      <a href='vscode-notebook-cell:/d%3A/Anik/Personal/Python/practise/13thClass/Thirteen.ipynb#ch0000004?line=5'>6</a>\u001b[0m         f\u001b[39m.\u001b[39mwrite(Msg)\n",
      "\u001b[1;31mFileExistsError\u001b[0m: [Errno 17] File exists: 'file.txt'",
      "\nDuring handling of the above exception, another exception occurred:\n",
      "\u001b[1;31mFileExistsError\u001b[0m                           Traceback (most recent call last)",
      "\u001b[1;32md:\\Anik\\Personal\\Python\\practise\\13thClass\\Thirteen.ipynb Cell 5'\u001b[0m in \u001b[0;36m<module>\u001b[1;34m\u001b[0m\n\u001b[0;32m      <a href='vscode-notebook-cell:/d%3A/Anik/Personal/Python/practise/13thClass/Thirteen.ipynb#ch0000004?line=8'>9</a>\u001b[0m         \u001b[39mprint\u001b[39m(e,\u001b[39m'\u001b[39m\u001b[39mfile not Created\u001b[39m\u001b[39m'\u001b[39m)\n\u001b[0;32m     <a href='vscode-notebook-cell:/d%3A/Anik/Personal/Python/practise/13thClass/Thirteen.ipynb#ch0000004?line=9'>10</a>\u001b[0m         fileName\u001b[39m=\u001b[39mfileName\u001b[39m.\u001b[39msplit(\u001b[39m'\u001b[39m\u001b[39m.\u001b[39m\u001b[39m'\u001b[39m)[\u001b[39m0\u001b[39m] \u001b[39m+\u001b[39m \u001b[39m'\u001b[39m\u001b[39m1\u001b[39m\u001b[39m'\u001b[39m \u001b[39m+\u001b[39m \u001b[39m'\u001b[39m\u001b[39m.txt\u001b[39m\u001b[39m'\u001b[39m\n\u001b[1;32m---> <a href='vscode-notebook-cell:/d%3A/Anik/Personal/Python/practise/13thClass/Thirteen.ipynb#ch0000004?line=10'>11</a>\u001b[0m         \u001b[39mwith\u001b[39;00m \u001b[39mopen\u001b[39;49m(fileName, \u001b[39m'\u001b[39;49m\u001b[39mx\u001b[39;49m\u001b[39m'\u001b[39;49m) \u001b[39mas\u001b[39;00m f:\n\u001b[0;32m     <a href='vscode-notebook-cell:/d%3A/Anik/Personal/Python/practise/13thClass/Thirteen.ipynb#ch0000004?line=11'>12</a>\u001b[0m             f\u001b[39m.\u001b[39mwrite(Msg)\n\u001b[0;32m     <a href='vscode-notebook-cell:/d%3A/Anik/Personal/Python/practise/13thClass/Thirteen.ipynb#ch0000004?line=12'>13</a>\u001b[0m \u001b[39mfinally\u001b[39;00m:\n",
      "\u001b[1;31mFileExistsError\u001b[0m: [Errno 17] File exists: 'file1.txt'"
     ]
    }
   ],
   "source": [
    "Msg='Hey,Welcome Here'\n",
    "fileName='file.txt'\n",
    "\n",
    "try:\n",
    "    with open(fileName, 'x') as f:\n",
    "        f.write(Msg)\n",
    "        print('file Created')\n",
    "except FileExistsError as e:\n",
    "        print(e,'file not Created')\n",
    "        fileName=fileName.split('.')[0] + '1' + '.txt'\n",
    "        with open(fileName, 'x') as f:\n",
    "            f.write(Msg)\n",
    "finally:\n",
    "    print('file created')\n",
    "\n"
   ]
  },
  {
   "cell_type": "code",
   "execution_count": null,
   "metadata": {},
   "outputs": [],
   "source": [
    "Msg='Hey,Welcome Here'\n",
    "fileName='file.txt'\n",
    "#i=0\n",
    "#vr= (i if for i in range(1,10)):\n",
    "\n",
    "try:\n",
    "    with open(fileName, 'x') as f:\n",
    "        f.write(Msg)\n",
    "        print('file Created')\n",
    "except FileExistsError as e:\n",
    "        print(e,'file not Created')\n",
    "        fileName=fileName.split('.')[0] + '2' + '.txt'\n",
    "        with open(fileName, 'x') as f:\n",
    "            f.write(Msg)\n",
    "finally:\n",
    "    print(f'{fileName} Created')"
   ]
  },
  {
   "cell_type": "code",
   "execution_count": 9,
   "metadata": {},
   "outputs": [
    {
     "name": "stdout",
     "output_type": "stream",
     "text": [
      "Your Age 222 not accepted\n"
     ]
    }
   ],
   "source": [
    "#Custom Exception\n",
    "age=222\n",
    "try:\n",
    "    if age>50:\n",
    "        raise Exception (f'Your Age {age} not accepted')\n",
    "except Exception as e:\n",
    "    print(e)\n",
    "    \n"
   ]
  },
  {
   "cell_type": "code",
   "execution_count": null,
   "metadata": {},
   "outputs": [],
   "source": [
    "#Custome Exception using inheritance\n",
    "#prb why not possible in previous cell\n",
    "class AgeThreshholdLimit(Exception):\n",
    "    pass\n",
    "age=111\n",
    "try:\n",
    "    if age>50:\n",
    "        raise AgeThreshholdLimit (f'Your Age {age} not accepted')\n",
    "except AgeThreshholdLimit as e:\n",
    "    print(e)"
   ]
  },
  {
   "cell_type": "code",
   "execution_count": null,
   "metadata": {},
   "outputs": [],
   "source": [
    "#Asserting Error Handling\n",
    "#assert 1==2 ,'error'\n",
    "\n",
    "age = 120\n",
    "try:\n",
    "    assert age<50 , f'Your Age {age} not accepted'\n",
    "except AssertionError as A:\n",
    "    print(A)\n"
   ]
  },
  {
   "cell_type": "markdown",
   "metadata": {},
   "source": [
    "Datetime\n",
    "    time()\n",
    "    date()\n",
    "    datetime()\n",
    "    timedelta()"
   ]
  },
  {
   "cell_type": "code",
   "execution_count": null,
   "metadata": {},
   "outputs": [],
   "source": [
    "import datetime"
   ]
  },
  {
   "cell_type": "code",
   "execution_count": null,
   "metadata": {},
   "outputs": [],
   "source": [
    "today = datetime.date.today()\n",
    "print(today)\n",
    "today.day,today.month,today.year\n"
   ]
  },
  {
   "cell_type": "code",
   "execution_count": null,
   "metadata": {},
   "outputs": [],
   "source": [
    "#Customize date\n",
    "cusDay= datetime.date(2022,12,12)\n",
    "cusDay"
   ]
  },
  {
   "cell_type": "code",
   "execution_count": null,
   "metadata": {},
   "outputs": [],
   "source": [
    "# time\n",
    "#time=datetime.datetime.now()\n",
    "time=datetime.datetime.now()\n",
    "print(time)\n",
    "time.hour,time.minute,time.second,time.microsecond\n",
    "\n",
    "#Customize time\n",
    "time=datetime.time(23,23,44,456)\n",
    "time  "
   ]
  },
  {
   "cell_type": "code",
   "execution_count": null,
   "metadata": {},
   "outputs": [],
   "source": [
    "#Customize time & date\n",
    "dt=datetime.datetime(2022,12,12 ,23,23,44,456)\n",
    "dt"
   ]
  },
  {
   "cell_type": "code",
   "execution_count": null,
   "metadata": {},
   "outputs": [],
   "source": [
    "#Timedelta\n",
    "time=datetime.datetime.now()\n",
    "print(time)\n",
    "time + datetime.timedelta(days=3,weeks=2, hours = 4, seconds = 10)\n",
    "time - datetime.timedelta(days=3,weeks=2, hours = 4, seconds = 10)"
   ]
  },
  {
   "cell_type": "code",
   "execution_count": null,
   "metadata": {},
   "outputs": [],
   "source": [
    "#Timestamp\n",
    "datetime.datetime.fromtimestamp(3600)#60*60=1hour,3600 sec\n",
    "datetime.datetime.fromtimestamp(9999999999)#Last limit"
   ]
  },
  {
   "cell_type": "code",
   "execution_count": null,
   "metadata": {},
   "outputs": [],
   "source": [
    "#Customize Date Time Format\n",
    "time.strftime(\"%D * %d /%m(%h,%B)/ %Y  *  %H(12h format %I) :%M :%S (Microsecond) %f\")"
   ]
  },
  {
   "cell_type": "code",
   "execution_count": null,
   "metadata": {},
   "outputs": [],
   "source": [
    "f='03:02:12.660442  31/October/21 '\n",
    "datetime.datetime.strptime(f , '%I :%M :%S %f  %d/%B/%y')"
   ]
  },
  {
   "cell_type": "code",
   "execution_count": null,
   "metadata": {},
   "outputs": [],
   "source": [
    "import time\n",
    "while True:\n",
    "    for i in range(1,10):\n",
    "        print(i)\n",
    "        time.sleep(3)"
   ]
  },
  {
   "cell_type": "code",
   "execution_count": 12,
   "metadata": {},
   "outputs": [],
   "source": [
    "import math"
   ]
  },
  {
   "cell_type": "code",
   "execution_count": 13,
   "metadata": {},
   "outputs": [
    {
     "data": {
      "text/plain": [
       "(3.141592653589793, 2.718281828459045, 6.283185307179586)"
      ]
     },
     "execution_count": 13,
     "metadata": {},
     "output_type": "execute_result"
    }
   ],
   "source": [
    "math.pi,math.e,math.tau"
   ]
  },
  {
   "cell_type": "code",
   "execution_count": null,
   "metadata": {},
   "outputs": [],
   "source": [
    "math.radians(math.pi)\n",
    "math.pow(2,8)\n",
    "math.exp(11)\n",
    "math.factorial(5)"
   ]
  },
  {
   "cell_type": "code",
   "execution_count": null,
   "metadata": {},
   "outputs": [],
   "source": [
    "#Trigonometric\n",
    "math.sin(90)\n",
    "math.cos(90)"
   ]
  },
  {
   "cell_type": "code",
   "execution_count": null,
   "metadata": {},
   "outputs": [],
   "source": [
    "#logarithm\n",
    "math.log(10)\n",
    "math.log2(10)\n",
    "math.log10(2)"
   ]
  },
  {
   "cell_type": "code",
   "execution_count": 1,
   "metadata": {},
   "outputs": [
    {
     "data": {
      "text/plain": [
       "6"
      ]
     },
     "execution_count": 1,
     "metadata": {},
     "output_type": "execute_result"
    }
   ],
   "source": [
    "#Custom Import Module\n",
    "import FirstImportModule\n",
    "FirstImportModule.add(2,4)\n"
   ]
  },
  {
   "cell_type": "code",
   "execution_count": 10,
   "metadata": {},
   "outputs": [],
   "source": [
    "import SecondImportMod\n"
   ]
  },
  {
   "cell_type": "code",
   "execution_count": 11,
   "metadata": {},
   "outputs": [
    {
     "data": {
      "text/plain": [
       "-1"
      ]
     },
     "execution_count": 11,
     "metadata": {},
     "output_type": "execute_result"
    }
   ],
   "source": [
    "SecondImportMod.mul(3,4)\n",
    "SecondImportMod.mathh.sub(2,3)\n"
   ]
  }
 ],
 "metadata": {
  "kernelspec": {
   "display_name": "Python 3.10.4 64-bit",
   "language": "python",
   "name": "python3"
  },
  "language_info": {
   "codemirror_mode": {
    "name": "ipython",
    "version": 3
   },
   "file_extension": ".py",
   "mimetype": "text/x-python",
   "name": "python",
   "nbconvert_exporter": "python",
   "pygments_lexer": "ipython3",
   "version": "3.10.4"
  },
  "orig_nbformat": 4,
  "vscode": {
   "interpreter": {
    "hash": "c81d839d3c4227cd770621df97fe8191838af02e7eef185a922d8250cb33d344"
   }
  }
 },
 "nbformat": 4,
 "nbformat_minor": 2
}
