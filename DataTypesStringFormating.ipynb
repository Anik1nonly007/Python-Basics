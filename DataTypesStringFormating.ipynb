{
 "cells": [
  {
   "cell_type": "code",
   "execution_count": 1,
   "source": [
    "print(\"Hello\")\r\n",
    "myName=input(\"Write your Name:\")\r\n",
    "print(\"Welcole Mr.\"+myName)"
   ],
   "outputs": [
    {
     "output_type": "stream",
     "name": "stdout",
     "text": [
      "Hello\n",
      "Welcole Mr.Anik\n"
     ]
    }
   ],
   "metadata": {}
  },
  {
   "cell_type": "markdown",
   "source": [
    "# Comments\r\n",
    "## comments\r\n",
    "### Welcome Message/Hello World\r\n"
   ],
   "metadata": {}
  },
  {
   "cell_type": "code",
   "execution_count": 2,
   "source": [
    "print(\"Hello\")\r\n",
    "myName=input(\"Write your Name:\")\r\n",
    "print(\"Welcome Mr.\"+myName)\r\n",
    "print(type(myName))\r\n",
    "type(myName)\r\n"
   ],
   "outputs": [
    {
     "output_type": "stream",
     "name": "stdout",
     "text": [
      "Hello\n",
      "Welcome Mr.Chowdhury\n",
      "<class 'str'>\n"
     ]
    },
    {
     "output_type": "execute_result",
     "data": {
      "text/plain": [
       "str"
      ]
     },
     "metadata": {},
     "execution_count": 2
    }
   ],
   "metadata": {}
  },
  {
   "cell_type": "markdown",
   "source": [
    "# Data Type & Variables\r\n"
   ],
   "metadata": {}
  },
  {
   "cell_type": "code",
   "execution_count": 3,
   "source": [
    "#String\r\n",
    "language=\"Python\"\r\n",
    "language='PHP'\r\n",
    "f=\"Father's Name\"\r\n",
    "print(language+str(1))\r\n",
    "print(type(f))\r\n",
    "\r\n",
    "f"
   ],
   "outputs": [
    {
     "output_type": "stream",
     "name": "stdout",
     "text": [
      "PHP1\n",
      "<class 'str'>\n"
     ]
    },
    {
     "output_type": "execute_result",
     "data": {
      "text/plain": [
       "\"Father's Name\""
      ]
     },
     "metadata": {},
     "execution_count": 3
    }
   ],
   "metadata": {}
  },
  {
   "cell_type": "code",
   "execution_count": 10,
   "source": [
    "\r\n",
    "#integer\r\n",
    "age=26\r\n",
    "print(\"My Age:\" + str(age))\r\n",
    "print(age+1)\r\n",
    "print(type(age))"
   ],
   "outputs": [
    {
     "output_type": "stream",
     "name": "stdout",
     "text": [
      "My Age:26\n",
      "27\n",
      "<class 'int'>\n"
     ]
    }
   ],
   "metadata": {}
  },
  {
   "cell_type": "code",
   "execution_count": 5,
   "source": [
    "#float\r\n",
    "sal=30.12\r\n",
    "print(sal)\r\n",
    "print(type(sal))\r\n",
    "int(sal)"
   ],
   "outputs": [
    {
     "output_type": "stream",
     "name": "stdout",
     "text": [
      "30.12\n",
      "<class 'float'>\n"
     ]
    },
    {
     "output_type": "execute_result",
     "data": {
      "text/plain": [
       "30"
      ]
     },
     "metadata": {},
     "execution_count": 5
    }
   ],
   "metadata": {}
  },
  {
   "cell_type": "code",
   "execution_count": 16,
   "source": [
    "#Boolean\r\n",
    "is_married=False\r\n",
    "print(is_married)\r\n",
    "type(is_married)"
   ],
   "outputs": [
    {
     "output_type": "stream",
     "name": "stdout",
     "text": [
      "False\n"
     ]
    },
    {
     "output_type": "execute_result",
     "data": {
      "text/plain": [
       "bool"
      ]
     },
     "metadata": {},
     "execution_count": 16
    }
   ],
   "metadata": {}
  },
  {
   "cell_type": "code",
   "execution_count": 7,
   "source": [
    "#Complex Data  Type\r\n",
    "com=complex(1+2.5j)\r\n",
    "print(com)\r\n",
    "type(com)"
   ],
   "outputs": [
    {
     "output_type": "stream",
     "name": "stdout",
     "text": [
      "(1+2j)\n"
     ]
    },
    {
     "output_type": "execute_result",
     "data": {
      "text/plain": [
       "complex"
      ]
     },
     "metadata": {},
     "execution_count": 7
    }
   ],
   "metadata": {}
  },
  {
   "cell_type": "code",
   "execution_count": 8,
   "source": [
    "print(\"Hello, \" +myName+ \" how are you? \")\r\n",
    "#String Formatting\r\n",
    "print(\"Hello {0} age sal {2} how are you?\" .format(myName,age,sal ), end=\"@\" )\r\n",
    "# %s=String , %d=Integer ,%f=Float %.2f=take 2decimal point\r\n",
    "print(\"Hello %s Salary %.3f  how are you?\"%(myName,sal))\r\n",
    "#3rd way of String Formating / Efficient Way \r\n",
    "print(f\"Hello {myName} age= {age-1} Salary= {sal} , \\nHow do you do\")"
   ],
   "outputs": [
    {
     "output_type": "stream",
     "name": "stdout",
     "text": [
      "Hello, Chowdhury how are you? \n",
      "Hello Chowdhury age sal 30.12 how are you?@Hello Chowdhury Salary 30.120  how are you?\n",
      "Hello Chowdhury age= 25 Salary= 30.12 , \n",
      "How do you do\n"
     ]
    }
   ],
   "metadata": {}
  }
 ],
 "metadata": {
  "orig_nbformat": 4,
  "language_info": {
   "name": "python",
   "version": "3.9.6",
   "mimetype": "text/x-python",
   "codemirror_mode": {
    "name": "ipython",
    "version": 3
   },
   "pygments_lexer": "ipython3",
   "nbconvert_exporter": "python",
   "file_extension": ".py"
  },
  "kernelspec": {
   "name": "python3",
   "display_name": "Python 3.9.6 64-bit"
  },
  "interpreter": {
   "hash": "6f3286a94e22de8ff5948a9c103fc84fc0d73fd4e82b66075ca633ecac3f2b43"
  }
 },
 "nbformat": 4,
 "nbformat_minor": 2
}