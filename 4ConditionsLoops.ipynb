{
 "cells": [
  {
   "cell_type": "markdown",
   "metadata": {},
   "source": [
    "# If Else elif"
   ]
  },
  {
   "cell_type": "code",
   "execution_count": null,
   "metadata": {},
   "outputs": [],
   "source": [
    "#Nested if else\n",
    "Age = 18\n",
    "salary = 40000\n",
    "if Age >= 18:\n",
    "    if salary >= 40000:\n",
    "        print(\"Eligible for Credit card\")\n",
    "    else:\n",
    "        print(\"Eligible for Debit Card\")\n",
    "elif Age < 18:\n",
    "    print(\"Eligible for Green Card\")\n",
    "else:\n",
    "    print(\"Not Eligible for Bank Acc\")"
   ]
  },
  {
   "cell_type": "code",
   "execution_count": null,
   "metadata": {},
   "outputs": [],
   "source": [
    "Age = 18\n",
    "salary = 30000\n",
    "if Age >= 18 and salary >= 40000:\n",
    "   print(\"Eligible for Credit card\")\n",
    "elif Age >=18:\n",
    "#elif salary < 40000 and Age >=18:\n",
    "     print(\"Eligible for Debit Card\")\n",
    "elif Age < 18:\n",
    "    print(\"Eligible for Green Card\")\n",
    "else:\n",
    "    print(\"Not Eligible for Bank Acc\")"
   ]
  },
  {
   "cell_type": "markdown",
   "metadata": {},
   "source": [
    "##Loops"
   ]
  },
  {
   "cell_type": "code",
   "execution_count": null,
   "metadata": {},
   "outputs": [],
   "source": [
    "#While Loops      \n",
    "Emptybelly = 100\n",
    "FullBelly = 1000\n",
    "while Emptybelly <= FullBelly:\n",
    "    print(Emptybelly)\n",
    "    Emptybelly += 100"
   ]
  },
  {
   "cell_type": "code",
   "execution_count": null,
   "metadata": {},
   "outputs": [],
   "source": [
    "#Print Even And Odd\n",
    "start = 0\n",
    "end = 10\n",
    "while start <= end:\n",
    "    print (start)\n",
    "    start += 2 \n",
    "\n",
    "start = 1\n",
    "end = 10\n",
    "while start <= end:\n",
    "    print (start)\n",
    "    start += 2 "
   ]
  },
  {
   "cell_type": "code",
   "execution_count": null,
   "metadata": {},
   "outputs": [],
   "source": [
    "#Another way Print Even And Odd\n",
    "start = 0\n",
    "end = 10\n",
    "while start <= end:\n",
    "    if start % 2 == 0:\n",
    "        print (start)\n",
    "    start += 1 \n",
    "\n",
    "st = 0\n",
    "en = 10\n",
    "while st <= en:\n",
    "     if st % 2 == 1:\n",
    "         print (st)\n",
    "     st += 1"
   ]
  },
  {
   "cell_type": "code",
   "execution_count": null,
   "metadata": {},
   "outputs": [],
   "source": [
    "# Break\n",
    "start = 0\n",
    "end = 10\n",
    "while start <= end:\n",
    "    print (start)\n",
    "    if start == 3:\n",
    "        break\n",
    "    start += 1 "
   ]
  },
  {
   "cell_type": "code",
   "execution_count": null,
   "metadata": {},
   "outputs": [],
   "source": [
    "# continue\n",
    "start = 0\n",
    "end = 10\n",
    "while start < end:\n",
    "    start += 1 \n",
    "    if start <=3:\n",
    "        print (\"skip\")\n",
    "        continue\n",
    "    print(start)"
   ]
  },
  {
   "cell_type": "code",
   "execution_count": null,
   "metadata": {},
   "outputs": [],
   "source": [
    "#Range function\n",
    "low , high = 1 , 6\n",
    "list(range(1 , 6))\n"
   ]
  },
  {
   "cell_type": "code",
   "execution_count": null,
   "metadata": {},
   "outputs": [],
   "source": [
    "#print up to 3 then break\n",
    "for num in range(1 , 6 , 1):\n",
    "    print(num)\n",
    "    if num == 3:\n",
    "        break      "
   ]
  },
  {
   "cell_type": "code",
   "execution_count": null,
   "metadata": {},
   "outputs": [],
   "source": [
    "# for loops print number in reverse order\n",
    "for num in range(6 , 0 , -1):\n",
    "    print(num)\n"
   ]
  },
  {
   "cell_type": "code",
   "execution_count": null,
   "metadata": {},
   "outputs": [],
   "source": [
    "#Another special Thing in python for string\n",
    "for a in 'Anik' [:: -1]:\n",
    "    print(a)"
   ]
  },
  {
   "cell_type": "code",
   "execution_count": null,
   "metadata": {},
   "outputs": [],
   "source": []
  },
  {
   "cell_type": "code",
   "execution_count": 28,
   "metadata": {},
   "outputs": [
    {
     "name": "stdout",
     "output_type": "stream",
     "text": [
      "you got AA\n"
     ]
    }
   ],
   "source": [
    "# task\n",
    "#grading system\n",
    "#take input from user\n",
    "#calculate Average\n",
    "#AA(90-100), A+(80-89) , A(60-79) , B(45-59), C(30-44), D(0-29)\n",
    "python = 90\n",
    "cSharp = 90\n",
    "PHP = 99\n",
    "sum = python + cSharp +PHP\n",
    "avg = sum/3\n",
    "\n",
    "if avg >=90 and avg<=100 :\n",
    "    print('you got AA')\n",
    "elif avg >=80 and avg <= 89 :\n",
    "    print('you got A+')\n",
    "elif avg >=60 and avg <= 79 :\n",
    "    print('you got A')\n",
    "elif avg >=45 and avg <= 59 :\n",
    "    print('you got B')\n",
    "elif avg >=30 and avg <= 44 :\n",
    "    print('you got C')\n",
    "elif avg >=0 and avg <= 29 :\n",
    "    print('you got D')\n",
    "else:\n",
    "    print('you are not in mind')"
   ]
  }
 ],
 "metadata": {
  "interpreter": {
   "hash": "6f3286a94e22de8ff5948a9c103fc84fc0d73fd4e82b66075ca633ecac3f2b43"
  },
  "kernelspec": {
   "display_name": "Python 3.9.6 64-bit",
   "name": "python3"
  },
  "language_info": {
   "codemirror_mode": {
    "name": "ipython",
    "version": 3
   },
   "file_extension": ".py",
   "mimetype": "text/x-python",
   "name": "python",
   "nbconvert_exporter": "python",
   "pygments_lexer": "ipython3",
   "version": "3.9.6"
  },
  "orig_nbformat": 4
 },
 "nbformat": 4,
 "nbformat_minor": 2
}
