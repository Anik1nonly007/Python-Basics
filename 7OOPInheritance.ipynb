{
 "cells": [
  {
   "cell_type": "markdown",
   "metadata": {},
   "source": [
    "#class\n",
    "#Object\n",
    "#2 types of variables:1=Features or class Variables,2=Instance Variables\n",
    "\n",
    "#Encapsulation#binding feature or variables and methods \n",
    "#Abstruction #hide complexity from user like object creation\n",
    "#inheritance\n",
    "#polymorphisom"
   ]
  },
  {
   "cell_type": "code",
   "execution_count": null,
   "metadata": {},
   "outputs": [],
   "source": [
    "#prb will see decorators in class\n",
    "class human:\n",
    "#Features or class Variables\n",
    "#Below 2 variables are class Variables and same for everyone\n",
    "   \n",
    "    eyes=2\n",
    "    legs=2\n",
    "#Restricting Variables or private variables\n",
    "    __hands=2\n",
    "#Constructors\n",
    "#Below constructor are also special methods\n",
    "#not use return in constructor\n",
    "    def __init__(self,name,salary):\n",
    "        self.name=name#instance variable\n",
    "        self.salary=salary\n",
    "        self.__phn=\"0188273\"\n",
    "        print(\"Initialized.....\")\n",
    "        \n",
    "#Behaviours or methods\n",
    "    def walking(self):\n",
    "        return \"Walking\"\n",
    "\n",
    "    def speaking(self):\n",
    "        return f\"{self.name} Speaking and\"#we can access instance variable throug self\n",
    "    def getEyes(self):\n",
    "        return \"Eyes\", __class__.eyes##we can access class variables through __class__\n",
    "        #return self.eyes#prb if return self.eyes then after calling, anik.getEyes() given output: (eyes,10)\n",
    "    def getPhn(self):\n",
    "        return self.__phn,self.name\n",
    "    \n",
    "    \n",
    " #ClassMethod \n",
    "#we can access without creating object\n",
    "    @classmethod\n",
    "    def anyName(cls):\n",
    "        print(f\"any,eyes {cls.eyes}\")   \n",
    "    \n",
    "  \n"
   ]
  },
  {
   "cell_type": "code",
   "execution_count": 14,
   "metadata": {},
   "outputs": [
    {
     "name": "stdout",
     "output_type": "stream",
     "text": [
      "Initialized.....\n",
      "Anik Chowdhury Speaking and Walking\n",
      "('eyes', 10) ('Eyes', 2)\n"
     ]
    },
    {
     "data": {
      "text/plain": [
       "('Eyes', 2)"
      ]
     },
     "execution_count": 14,
     "metadata": {},
     "output_type": "execute_result"
    }
   ],
   "source": [
    "#Object Creation\n",
    "anik = human(\"Anik Chowdhury\",'50k')\n",
    "#Accessing Variables\n",
    "anik.name ,anik.eyes\n",
    "#Accessing Methods\n",
    "print(anik.speaking(),anik.walking())\n",
    "anik.speaking()\n",
    "anik.getPhn()#prb if i use print then show errors\n",
    "#prb everyone got same phn no\n",
    "#value updating\n",
    "anik.eyes=\"eyes\",10\n",
    "print(anik.eyes,anik.getEyes())\n",
    "\n",
    "#Accessing Class method\n",
    "#human(\"anikk\").anyName()\n",
    "#human.anyName()#prb not use (),and dnt pass argument\n",
    "#anik.anyName()\n",
    "anik.getEyes()\n",
    "\n"
   ]
  },
  {
   "cell_type": "code",
   "execution_count": 23,
   "metadata": {},
   "outputs": [
    {
     "name": "stdout",
     "output_type": "stream",
     "text": [
      "Initialized.....\n",
      "Partner Speaking and\n"
     ]
    },
    {
     "data": {
      "text/plain": [
       "'100k'"
      ]
     },
     "execution_count": 23,
     "metadata": {},
     "output_type": "execute_result"
    }
   ],
   "source": [
    "#Object Creation\n",
    "shuvo = human(\"Partner\",'100k')\n",
    "#Accessing Variables\n",
    "print(shuvo.speaking())\n",
    "#Accessing Methods\n",
    "shuvo.walking()\n",
    "shuvo.speaking()\n",
    "shuvo.getEyes()\n",
    "shuvo.salary\n",
    "\n",
    "\n"
   ]
  },
  {
   "cell_type": "code",
   "execution_count": 20,
   "metadata": {},
   "outputs": [
    {
     "name": "stdout",
     "output_type": "stream",
     "text": [
      "Initialized.....\n",
      "('male', ('0188273', 'Anik'))\n"
     ]
    },
    {
     "data": {
      "text/plain": [
       "('0188273', 'Anik')"
      ]
     },
     "execution_count": 20,
     "metadata": {},
     "output_type": "execute_result"
    }
   ],
   "source": [
    "#Inheritence\n",
    "class Male(human):\n",
    "    __gender='male'\n",
    "\n",
    "    def getGender(self):\n",
    "        return __class__.__gender,super().getPhn()\n",
    "\n",
    "CreatingObjForInheritance=Male('Anik',\"30k\")\n",
    "\n",
    "#CreatingObjForInheritance.__gender\n",
    "print(CreatingObjForInheritance.getGender())\n",
    "CreatingObjForInheritance.getEyes(),CreatingObjForInheritance.legs\n",
    "CreatingObjForInheritance.getPhn()\n"
   ]
  }
 ],
 "metadata": {
  "interpreter": {
   "hash": "c81d839d3c4227cd770621df97fe8191838af02e7eef185a922d8250cb33d344"
  },
  "kernelspec": {
   "display_name": "Python 3.10.4 64-bit",
   "language": "python",
   "name": "python3"
  },
  "language_info": {
   "codemirror_mode": {
    "name": "ipython",
    "version": 3
   },
   "file_extension": ".py",
   "mimetype": "text/x-python",
   "name": "python",
   "nbconvert_exporter": "python",
   "pygments_lexer": "ipython3",
   "version": "3.10.4"
  },
  "orig_nbformat": 4
 },
 "nbformat": 4,
 "nbformat_minor": 2
}
