{
 "cells": [
  {
   "cell_type": "markdown",
   "metadata": {},
   "source": [
    "#Functions"
   ]
  },
  {
   "cell_type": "code",
   "execution_count": null,
   "metadata": {},
   "outputs": [],
   "source": [
    "#greetings\n",
    "def greet():\n",
    "    print('greetings')\n",
    "print(greet())# return null"
   ]
  },
  {
   "cell_type": "code",
   "execution_count": null,
   "metadata": {},
   "outputs": [],
   "source": [
    "#Function with Addition and return\n",
    "def add():\n",
    "    sum = 2+3\n",
    "    print(sum)\n",
    "    return sum\n",
    "add()+3#if i do return then we can perform another operation  but not possible in print "
   ]
  },
  {
   "cell_type": "code",
   "execution_count": null,
   "metadata": {},
   "outputs": [],
   "source": [
    "#Function with args\n",
    "def add(num1,num2):\n",
    "    sum = num1+num2\n",
    "    print(sum)\n",
    "    return sum\n",
    "add(4,8)"
   ]
  },
  {
   "cell_type": "code",
   "execution_count": null,
   "metadata": {},
   "outputs": [],
   "source": [
    "#prb indentation\n",
    "#Function with Dynamic args\n",
    "def DyAr(*args):\n",
    "    num=0\n",
    "    for numbers in args:\n",
    "        num += numbers\n",
    "        \n",
    "    return num\n",
    "        #return num#output 3\n",
    "#DyAr(3,5,6)# output only 3\n",
    "    #DyAr(3,5,6)# no output \n",
    "DyAr(3,5,6)\n"
   ]
  },
  {
   "cell_type": "code",
   "execution_count": null,
   "metadata": {},
   "outputs": [],
   "source": [
    "#Keyword Arguments\n",
    "def BankAcc(name , email, password , isPremium=True):\n",
    "    print(name,email,password, isPremium)\n",
    "    print(\"Acc Created\")\n",
    "BankAcc('Anik','Anik@gmail', 'Aa1', False)"
   ]
  },
  {
   "cell_type": "code",
   "execution_count": null,
   "metadata": {},
   "outputs": [],
   "source": [
    "# Dynamic Keyword Arguments\n",
    "def BankAcc( **kwArgs):\n",
    "    print(kwArgs)\n",
    "    print(\"Acc Created\")\n",
    "BankAcc(name='Anik',email ='Anik@gmail', password='Aa1' , isPremium=False )"
   ]
  },
  {
   "cell_type": "markdown",
   "metadata": {},
   "source": [
    "##Order follow   \n",
    "#def f(args,kwargs,*args,**kwargs)"
   ]
  },
  {
   "cell_type": "code",
   "execution_count": 1,
   "metadata": {},
   "outputs": [
    {
     "name": "stdout",
     "output_type": "stream",
     "text": [
      "{'name': 'Anik', 'email': 'Anik@gmail', 'password': 'Aa1', 'Date': '10-10-2021'}\n",
      "Acc Created\n",
      "name :: Anik\n",
      "email :: Anik@gmail\n",
      "password :: Aa1\n",
      "Date :: 10-10-2021\n"
     ]
    }
   ],
   "source": [
    "#prb if add another default value\n",
    "# Dynamic Keyword Arguments with for loops\n",
    "def BankAcc(isPremium=True, **kwArgs):#prb If i use default parameter then how to show output?\n",
    "    print(kwArgs)\n",
    "    print(\"Acc Created\")\n",
    "    for key,value in kwArgs.items():\n",
    "        print(key , '::' , value)\n",
    "BankAcc(name='Anik',email ='Anik@gmail', password='Aa1' ,  Date = \"10-10-2021\" ,isPremium=False ,)"
   ]
  },
  {
   "cell_type": "code",
   "execution_count": null,
   "metadata": {},
   "outputs": [],
   "source": [
    "#if we not wants to use ** then we can use list or tupple\n",
    "#copy from Function with Dynamic args cell\n",
    "def DyAr(args):\n",
    "    num=0\n",
    "    for numbers in args:\n",
    "        num += numbers\n",
    "    return num\n",
    "\n",
    "DyAr([3,5,6])\n"
   ]
  },
  {
   "cell_type": "code",
   "execution_count": null,
   "metadata": {},
   "outputs": [],
   "source": [
    "#check even or odd\n",
    "def isEven(num):\n",
    "    if num%2 == 0:\n",
    "        return True\n",
    "    \n",
    "    return False\n",
    "isEven(555)"
   ]
  },
  {
   "cell_type": "code",
   "execution_count": null,
   "metadata": {},
   "outputs": [],
   "source": [
    "#Lambda Function\n",
    "#We can't use elif,while loop,for loop in Lambda Function\n",
    "Increment1 = lambda num: num+1\n",
    "Increment1(2)"
   ]
  },
  {
   "cell_type": "code",
   "execution_count": null,
   "metadata": {},
   "outputs": [],
   "source": [
    "#Find Out Even or Odd using Lambda function\n",
    "isEven = lambda number: True if number%2 == 0 else False\n",
    "isOdd = lambda number : True if number%2 == 1 else False\n",
    "isEven(6)\n",
    "isOdd(2)\n",
    "\n",
    "print(isEven(7))\n",
    "print(isOdd(8))"
   ]
  },
  {
   "cell_type": "code",
   "execution_count": null,
   "metadata": {},
   "outputs": [],
   "source": [
    "#Map Function\n",
    "#If we want to find multiple values Even or odd\n",
    "#we need to use map function and using tupple or list\n",
    "isEven = lambda num: True if num%2==0 else False\n",
    "isEven(4)\n",
    "list(map(isEven , (3,5,7,9,10)))"
   ]
  },
  {
   "cell_type": "code",
   "execution_count": null,
   "metadata": {},
   "outputs": [],
   "source": [
    "\n",
    "#If we want to find Even values and odd values we use filter function\n",
    "\n",
    "isEven = lambda num: True if num%2==0 else False\n",
    "isEven(4)\n",
    "list( filter(isEven , [3,5,6,7,9,10]) ),tuple( filter(isOdd , [3,5,6,7,9,10]))"
   ]
  },
  {
   "cell_type": "code",
   "execution_count": null,
   "metadata": {},
   "outputs": [],
   "source": [
    "#List Comprehension\n",
    "num = [2,3,4,5,6,7]\n",
    "evens =[True if nums%2==0 else False for nums in num]\n",
    "evens"
   ]
  },
  {
   "cell_type": "code",
   "execution_count": null,
   "metadata": {},
   "outputs": [],
   "source": [
    "#another way to find even no by list comprehension\n",
    "odds = [nums for nums in num if nums % 2== 1 ]\n",
    "odds"
   ]
  },
  {
   "cell_type": "code",
   "execution_count": null,
   "metadata": {},
   "outputs": [],
   "source": [
    "#List Comprehension with Lambda Function\n",
    "evens = lambda low, high: [num for num in range( low,high) if num%2==0 ]\n",
    "evens(1,50)"
   ]
  },
  {
   "cell_type": "code",
   "execution_count": null,
   "metadata": {},
   "outputs": [],
   "source": [
    "#We can only use for loops\n",
    "evens =lambda low,high: {num:'even'   if num%2==0 else num for num in range(low,high)}\n",
    "evens(2,10)"
   ]
  },
  {
   "cell_type": "code",
   "execution_count": null,
   "metadata": {},
   "outputs": [],
   "source": [
    "num = [2,3,4,5,6,7]\n",
    "evens = tuple(True if nums %2 ==0 else False for nums in num)\n",
    "list(evens)"
   ]
  },
  {
   "cell_type": "code",
   "execution_count": null,
   "metadata": {},
   "outputs": [],
   "source": [
    "# MultiDimensional Array\n",
    "ndim= [\n",
    "        [1,2,3],\n",
    "        [4,5,6],\n",
    "        [7,8,9]\n",
    "]\n",
    "#ndim[0][1]\n",
    "#ndim[2][0]\n",
    "\n",
    "new =[nums+3 for num in ndim for nums in num ]\n",
    "new"
   ]
  },
  {
   "cell_type": "code",
   "execution_count": null,
   "metadata": {},
   "outputs": [],
   "source": [
    "ndim= [\n",
    "        [1,2,3],\n",
    "        [4,5,6],\n",
    "        [7,8,9]\n",
    "]\n",
    "for row in ndim:\n",
    "    for col in row:\n",
    "        #print(col)\n",
    "        print(f' [{ndim.index(row)}][{row.index(col)}] = {col}')"
   ]
  },
  {
   "cell_type": "code",
   "execution_count": 2,
   "metadata": {},
   "outputs": [
    {
     "name": "stdout",
     "output_type": "stream",
     "text": [
      "[[2, 4, 6], [8, 10, 12], [14, 16, 18]]\n"
     ]
    }
   ],
   "source": [
    "#Task\n",
    "#Matrix Addition\n",
    "ldim= [\n",
    "        [1,2,3],\n",
    "        [4,5,6],\n",
    "        [7,8,9]\n",
    "]\n",
    "rdim= [\n",
    "        [1,2,3],\n",
    "        [4,5,6],\n",
    "        [7,8,9]\n",
    "]\n",
    "newDim= [\n",
    "        [0,0,0],\n",
    "        [0,0,0],\n",
    "        [0,0,0]\n",
    "]\n",
    "for row in range(len(ldim)):\n",
    "        for col in range(len(ldim[0])):\n",
    "                newDim[row][col]=ldim[row][col]+rdim[row][col]\n",
    "               \n",
    "\n",
    "print(newDim)\n",
    "\n"
   ]
  }
 ],
 "metadata": {
  "interpreter": {
   "hash": "6f3286a94e22de8ff5948a9c103fc84fc0d73fd4e82b66075ca633ecac3f2b43"
  },
  "kernelspec": {
   "display_name": "Python 3.9.6 64-bit",
   "name": "python3"
  },
  "language_info": {
   "codemirror_mode": {
    "name": "ipython",
    "version": 3
   },
   "file_extension": ".py",
   "mimetype": "text/x-python",
   "name": "python",
   "nbconvert_exporter": "python",
   "pygments_lexer": "ipython3",
   "version": "3.9.6"
  },
  "orig_nbformat": 4
 },
 "nbformat": 4,
 "nbformat_minor": 2
}
