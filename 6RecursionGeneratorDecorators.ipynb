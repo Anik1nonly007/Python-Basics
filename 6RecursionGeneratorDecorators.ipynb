{
 "cells": [
  {
   "cell_type": "markdown",
   "metadata": {},
   "source": [
    "#Function\n",
    "#Recursion ,More efficiant than Loop\n",
    "#One function call again and again its won,Calling itself"
   ]
  },
  {
   "cell_type": "code",
   "execution_count": 1,
   "metadata": {},
   "outputs": [],
   "source": [
    "def rec(num):\n",
    "     if num==1:\n",
    "          print(num)\n",
    "          return 1\n",
    "    \n",
    "     print(num ,end='+')\n",
    "     return num + rec(num-1)#prb how its doing summation of rec() func\n",
    "  "
   ]
  },
  {
   "cell_type": "code",
   "execution_count": 2,
   "metadata": {},
   "outputs": [
    {
     "name": "stdout",
     "output_type": "stream",
     "text": [
      "5+4+3+2+1\n"
     ]
    },
    {
     "data": {
      "text/plain": [
       "15"
      ]
     },
     "execution_count": 2,
     "metadata": {},
     "output_type": "execute_result"
    }
   ],
   "source": [
    "rec(5)"
   ]
  },
  {
   "cell_type": "code",
   "execution_count": 2,
   "metadata": {},
   "outputs": [],
   "source": [
    "#Factorial Calculate\n",
    "def fact(n):\n",
    "    if n==1:\n",
    "        print(n)\n",
    "        return 1\n",
    "    else:\n",
    "        print(n ,end='*')\n",
    "        return n * fact(n-1)"
   ]
  },
  {
   "cell_type": "code",
   "execution_count": 3,
   "metadata": {},
   "outputs": [
    {
     "name": "stdout",
     "output_type": "stream",
     "text": [
      "5*4*3*2*1\n"
     ]
    },
    {
     "data": {
      "text/plain": [
       "120"
      ]
     },
     "execution_count": 3,
     "metadata": {},
     "output_type": "execute_result"
    }
   ],
   "source": [
    "fact(5)"
   ]
  },
  {
   "cell_type": "code",
   "execution_count": null,
   "metadata": {},
   "outputs": [],
   "source": [
    "#to check recursive limit\n",
    "import sys\n",
    "sys.getrecursionlimit()"
   ]
  },
  {
   "cell_type": "code",
   "execution_count": 4,
   "metadata": {},
   "outputs": [],
   "source": [
    "#prb\n",
    "#Generator \n",
    "def gene(low,high):\n",
    "    value=[]\n",
    "    while low != high:\n",
    "        value.append(low)\n",
    "        low += 1\n",
    "        #return value #prb if not given indentation correctly \n",
    "        yield value\n",
    "    \n",
    "v=gene(1,8)"
   ]
  },
  {
   "cell_type": "code",
   "execution_count": 8,
   "metadata": {},
   "outputs": [
    {
     "data": {
      "text/plain": [
       "[1, 2, 3, 4]"
      ]
     },
     "execution_count": 8,
     "metadata": {},
     "output_type": "execute_result"
    }
   ],
   "source": [
    "next(v)"
   ]
  },
  {
   "cell_type": "code",
   "execution_count": 57,
   "metadata": {},
   "outputs": [],
   "source": [
    "#prb\n",
    "#Generator\n",
    "def gene(low,high):\n",
    "    while low != high:\n",
    "        yield low,low+1,'stop'\n",
    "        yield low+low+1#how it works?\n",
    "        print('resuming........')\n",
    "        low += 3\n",
    "    \n",
    "values=gene(1,10)\n"
   ]
  },
  {
   "cell_type": "code",
   "execution_count": 64,
   "metadata": {},
   "outputs": [
    {
     "name": "stdout",
     "output_type": "stream",
     "text": [
      "resuming........\n"
     ]
    },
    {
     "ename": "StopIteration",
     "evalue": "",
     "output_type": "error",
     "traceback": [
      "\u001b[1;31m---------------------------------------------------------------------------\u001b[0m",
      "\u001b[1;31mStopIteration\u001b[0m                             Traceback (most recent call last)",
      "\u001b[1;32mC:\\Users\\NASAIT~1\\AppData\\Local\\Temp/ipykernel_2772/59419534.py\u001b[0m in \u001b[0;36m<module>\u001b[1;34m\u001b[0m\n\u001b[1;32m----> 1\u001b[1;33m \u001b[0mnext\u001b[0m\u001b[1;33m(\u001b[0m\u001b[0mvalues\u001b[0m\u001b[1;33m)\u001b[0m\u001b[1;33m\u001b[0m\u001b[1;33m\u001b[0m\u001b[0m\n\u001b[0m",
      "\u001b[1;31mStopIteration\u001b[0m: "
     ]
    }
   ],
   "source": [
    "next(values)"
   ]
  },
  {
   "cell_type": "code",
   "execution_count": 84,
   "metadata": {},
   "outputs": [],
   "source": [
    "#Generator using dictionary\n",
    "def greet(dict):\n",
    "    for x,y in dict.items():\n",
    "        yield x,y\n",
    "a={1:'hy',2:'welcome',3:'Anik'}\n",
    "b=greet(a)\n"
   ]
  },
  {
   "cell_type": "code",
   "execution_count": 86,
   "metadata": {},
   "outputs": [
    {
     "data": {
      "text/plain": [
       "(2, 'welcome')"
      ]
     },
     "execution_count": 86,
     "metadata": {},
     "output_type": "execute_result"
    }
   ],
   "source": [
    "next(b)"
   ]
  },
  {
   "cell_type": "code",
   "execution_count": 9,
   "metadata": {},
   "outputs": [],
   "source": [
    "#Generator\n",
    "def power():\n",
    "    n=3\n",
    "    yield n\n",
    "    n *= n\n",
    "    yield n\n",
    "ans=power()"
   ]
  },
  {
   "cell_type": "code",
   "execution_count": 10,
   "metadata": {},
   "outputs": [
    {
     "data": {
      "text/plain": [
       "3"
      ]
     },
     "execution_count": 10,
     "metadata": {},
     "output_type": "execute_result"
    }
   ],
   "source": [
    "next(ans)"
   ]
  },
  {
   "cell_type": "code",
   "execution_count": 13,
   "metadata": {},
   "outputs": [
    {
     "name": "stdout",
     "output_type": "stream",
     "text": [
      "3\n",
      "9\n"
     ]
    }
   ],
   "source": [
    "#Generator using for loops\n",
    "def power():\n",
    "    n=3\n",
    "    yield n\n",
    "    n *= n\n",
    "    yield n\n",
    "ans=power()\n",
    "for i in ans:\n",
    "    print(i)\n"
   ]
  },
  {
   "cell_type": "code",
   "execution_count": 152,
   "metadata": {},
   "outputs": [
    {
     "name": "stdout",
     "output_type": "stream",
     "text": [
      "0,1,1,2,3,5,8,13,21,34,"
     ]
    }
   ],
   "source": [
    "#prb\n",
    "#Fibonacci Series\n",
    "def fib():\n",
    "    a,b = 0,1\n",
    "    while True:\n",
    "        yield a\n",
    "        \n",
    "        a,b=b,b+a#not use print or return\n",
    "for x in fib():\n",
    "    \n",
    "    if x>50:\n",
    "        break\n",
    "    print(x, end=\",\")\n",
    "\n",
    "x=fib()"
   ]
  },
  {
   "cell_type": "code",
   "execution_count": 153,
   "metadata": {},
   "outputs": [
    {
     "data": {
      "text/plain": [
       "0"
      ]
     },
     "execution_count": 153,
     "metadata": {},
     "output_type": "execute_result"
    }
   ],
   "source": [
    "next(x)"
   ]
  },
  {
   "cell_type": "code",
   "execution_count": 160,
   "metadata": {},
   "outputs": [
    {
     "name": "stdout",
     "output_type": "stream",
     "text": [
      "2,4,6,8,10,12,14,16,18,20,22,24,26,28,30,32,34,36,38,40,42,44,46,48,50,52,54,56,58,60,62,64,66,68,70,72,74,76,78,80,82,84,86,88,90,92,94,96,98,"
     ]
    }
   ],
   "source": [
    "#print even no using generator\n",
    "a= range(2,100,2)\n",
    "#b=(num for num in a)\n",
    "for c in a:\n",
    "    print(c,end=\",\")\n"
   ]
  },
  {
   "cell_type": "code",
   "execution_count": 153,
   "metadata": {},
   "outputs": [
    {
     "name": "stdout",
     "output_type": "stream",
     "text": [
      "Main Func\n",
      "first Child func\n",
      "2nd Child func\n"
     ]
    }
   ],
   "source": [
    "#Nested Function\n",
    "def fun():\n",
    "    print(\"Main Func\")\n",
    "    def fun1():\n",
    "        print(\"first Child func\")\n",
    "    def fun2():\n",
    "        print(\"2nd Child func\")\n",
    "    fun1()\n",
    "    fun2()\n",
    "fun()"
   ]
  },
  {
   "cell_type": "code",
   "execution_count": 152,
   "metadata": {},
   "outputs": [
    {
     "name": "stdout",
     "output_type": "stream",
     "text": [
      "Order Placing.........\n",
      "Canceled\n",
      "Order Placing.........\n",
      "order Placed\n"
     ]
    }
   ],
   "source": [
    "#prb Flow\n",
    "#Decorators\n",
    "#for place order, logged in required\n",
    "#we will see class decorators \n",
    "\n",
    "user={'userName': 'Anik','password':'1234'}\n",
    "def loginRequired(function):\n",
    "    if user['userName'] and user['password']:\n",
    "        def wrapper():\n",
    "            print('Order Placing.........')\n",
    "            function()\n",
    "    return wrapper()# prb is their show any output ?\n",
    "\n",
    "@loginRequired\n",
    "def CancelOrder():\n",
    "    print('Canceled')\n",
    "@loginRequired\n",
    "def placeOrder():\n",
    "    print('order Placed')#why we didn't need to call placeOrder() Function"
   ]
  },
  {
   "cell_type": "code",
   "execution_count": 154,
   "metadata": {},
   "outputs": [
    {
     "name": "stdout",
     "output_type": "stream",
     "text": [
      "hello\n",
      "Anik\n",
      "Welcome here\n"
     ]
    }
   ],
   "source": [
    "#prb\n",
    "def func1(function):\n",
    "    def wrapper(*args,**kwargs):\n",
    "        print(\"hello\")\n",
    "        function(*args,**kwargs)\n",
    "        print(\"Welcome here\")\n",
    "    return wrapper\n",
    "\n",
    "@func1\n",
    "def func2(name):\n",
    "    print(f\"{name}\")\n",
    "func2(\"Anik\")"
   ]
  },
  {
   "cell_type": "code",
   "execution_count": 172,
   "metadata": {},
   "outputs": [
    {
     "name": "stdout",
     "output_type": "stream",
     "text": [
      "i am decorated\n",
      "now enjoy\n"
     ]
    }
   ],
   "source": [
    "def make_decorated(func):\n",
    "    def main_func():\n",
    "        print('i am decorated')\n",
    "        func()\n",
    "    return main_func()\n",
    "\n",
    "@make_decorated\n",
    "def simple_func():\n",
    "    print('now enjoy')\n",
    "\n",
    "simple_func()\n",
    "\n",
    "#decor=make_decorated(simple_func)\n",
    "#decor"
   ]
  },
  {
   "cell_type": "code",
   "execution_count": 182,
   "metadata": {},
   "outputs": [
    {
     "name": "stdout",
     "output_type": "stream",
     "text": [
      "i am deviding a & b\n",
      "2.0\n",
      "i am deviding a & b\n",
      "zero div error\n",
      "None\n"
     ]
    }
   ],
   "source": [
    "def checkFun(func):\n",
    "    def mainFun(a,b):\n",
    "        print('i am deviding a & b')\n",
    "        if b==0:\n",
    "            print(\"zero div error\")\n",
    "            return\n",
    "        return func(a,b)\n",
    "    return mainFun\n",
    "\n",
    "@checkFun\n",
    "def divFunc(x,y):\n",
    "    return x/y\n",
    "\n",
    "print(divFunc(20,10))\n",
    "print(divFunc(20,0))\n"
   ]
  }
 ],
 "metadata": {
  "interpreter": {
   "hash": "6f3286a94e22de8ff5948a9c103fc84fc0d73fd4e82b66075ca633ecac3f2b43"
  },
  "kernelspec": {
   "display_name": "Python 3.9.6 64-bit",
   "name": "python3"
  },
  "language_info": {
   "codemirror_mode": {
    "name": "ipython",
    "version": 3
   },
   "file_extension": ".py",
   "mimetype": "text/x-python",
   "name": "python",
   "nbconvert_exporter": "python",
   "pygments_lexer": "ipython3",
   "version": "3.9.6"
  },
  "orig_nbformat": 4
 },
 "nbformat": 4,
 "nbformat_minor": 2
}
