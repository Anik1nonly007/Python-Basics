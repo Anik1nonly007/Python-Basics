{
 "cells": [
  {
   "cell_type": "code",
   "execution_count": null,
   "metadata": {},
   "outputs": [],
   "source": [
    "#File creation & Writing file\n",
    "#2nd parameter hold w for writing or r for reading or a for append mode\n",
    "#there has 2mode,binary (b) and text(t),wt,rt  mode default\n",
    "\n",
    "f= open('file.txt', mode='w')#All truncate or erase in w mode\n",
    "f.writable()#check if we can write or not\n",
    "f.write('write anything')\n",
    "f.write('\\n  write anything')\n",
    "f.writelines(['\\n','0','1','2','3'])\n",
    "\n",
    "f.close()\n",
    "f.closed#check if it is close or not\n"
   ]
  },
  {
   "cell_type": "code",
   "execution_count": null,
   "metadata": {},
   "outputs": [],
   "source": [
    "f=open('file.txt',mode='a')\n",
    "f.write('\\ndata mining')\n",
    "f.close()"
   ]
  },
  {
   "cell_type": "code",
   "execution_count": null,
   "metadata": {},
   "outputs": [],
   "source": [
    "f=open('file1.txt',mode='x')\n",
    "f.write(\"\\nWe cann't create same name(file.txt) file in exclusive mode or x mode\")\n",
    "f.write(\"\\n We cann't create same name(file.txt) file in exclusive mode or x mode\")\n",
    "f.close()"
   ]
  },
  {
   "cell_type": "code",
   "execution_count": null,
   "metadata": {},
   "outputs": [],
   "source": [
    "f=open('file.txt',mode='r')\n",
    "print(f.readable())\n",
    "print(f.read())\n",
    "f.close()"
   ]
  },
  {
   "cell_type": "code",
   "execution_count": null,
   "metadata": {},
   "outputs": [],
   "source": [
    "f= open('file.txt', mode='rb')#b for binary mode\n",
    "#f.write(b'write anything')#if use b(binary mode) but given text then output will b valueError\n",
    "#print(f.write(b'write anything'))\n",
    "print(f.readable())\n",
    "print(f.read())\n",
    "\n",
    "\n",
    "f.close()\n"
   ]
  },
  {
   "cell_type": "code",
   "execution_count": null,
   "metadata": {},
   "outputs": [],
   "source": [
    "f=open('file.txt',mode='r+')\n",
    "print(f.readable())\n",
    "print(f.read())\n",
    "f.write(\"\\nWe cann't create same name(file.txt) file in exclusive mode or x mode\")\n",
    "print(f.read())\n",
    "f.close()"
   ]
  },
  {
   "cell_type": "code",
   "execution_count": null,
   "metadata": {},
   "outputs": [],
   "source": [
    "f=open('file.txt',mode='r')\n",
    "\n",
    "#print(f.readline(3))\n",
    "#print(f.readlines(3))\n",
    "print(f.seek(3))\n",
    "print(f.read())\n",
    "print(f.tell())\n",
    "f.close()"
   ]
  },
  {
   "cell_type": "code",
   "execution_count": null,
   "metadata": {},
   "outputs": [],
   "source": [
    "#File Opening with session\n",
    "with open('file.txt', mode='r') as f:\n",
    "    print(f.read())\n",
    "    print(f.closed)\n",
    "print(f.closed)\n"
   ]
  },
  {
   "cell_type": "code",
   "execution_count": 8,
   "metadata": {},
   "outputs": [
    {
     "data": {
      "text/plain": [
       "'f:\\\\Python\\\\python\\\\12thClass'"
      ]
     },
     "execution_count": 8,
     "metadata": {},
     "output_type": "execute_result"
    }
   ],
   "source": [
    "import os\n",
    "os.getcwd()#get current path or location"
   ]
  },
  {
   "cell_type": "code",
   "execution_count": null,
   "metadata": {},
   "outputs": [],
   "source": [
    "os.getcwd() # getting current path or directory \n",
    "os.chdir('f:\\\\Python\\\\python')#change directory by given path\n",
    "print(os.getcwd())\n",
    "os.chdir('..')#back to previous folder or change dir by one.\n",
    "print(os.getcwd())\n",
    "os.chdir('f:\\\\Python\\\\python\\\\12thClass')\n",
    "print(os.getcwd())\n"
   ]
  },
  {
   "cell_type": "code",
   "execution_count": null,
   "metadata": {},
   "outputs": [],
   "source": [
    "#os.mkdir('newFolder')#Creat Folder\n",
    "#os.mkdir('newFolder\\\\SubOneNewFolder')#create new sub folder under newFolder,and newFolder exist mendatory \n",
    "#os.chdir('f:\\\\Python\\\\python\\\\12thClass\\\\newFolder')\n",
    "os.getcwd()\n",
    "#os.mkdir('SubOneNewFolder')\n",
    "os.getcwd()\n",
    "os.chdir('..')\n",
    "os.getcwd()\n",
    "os.chdir('f:\\\\Python\\\\python\\\\12thClass')\n",
    "os.getcwd()\n",
    "#os.mkdir('newFolder1\\\\SubOneNewFolder1\\\\SubTwoNewFolder1')\n",
    "os.getcwd()"
   ]
  },
  {
   "cell_type": "code",
   "execution_count": null,
   "metadata": {},
   "outputs": [],
   "source": [
    "#os.makedirs('newFolder2\\\\SubOneNewFolder')#create both folder and sub folder not mendatory to exist newFolder2\n",
    "os.getcwd()\n",
    "os.chdir('f:\\\\Python\\\\python\\\\12thClass\\\\newFolder1')\n",
    "#os.rename('SubOneNewFolder1','SubOneNewFolder')#folder Rename\n",
    "os.chdir('f:\\\\Python\\\\python\\\\12thClass\\\\newFolder')\n",
    "os.getcwd()\n",
    "#os.rename('file.txt','MainFile')#File Rename\n",
    "#os.rename('MainFile','MainFile.txt')\n",
    "#os.remove('file2.txt')#File Remove\n",
    "\n"
   ]
  },
  {
   "cell_type": "code",
   "execution_count": null,
   "metadata": {},
   "outputs": [],
   "source": [
    "os.chdir('f:\\\\Python\\\\python\\\\12thClass\\\\newFolder1')\n",
    "os.rmdir('SubTwoNewFolder1')#Delete Last Folder\n",
    "os.getcwd()\n",
    "\n",
    "\n"
   ]
  },
  {
   "cell_type": "code",
   "execution_count": null,
   "metadata": {},
   "outputs": [],
   "source": [
    "os.removedirs('SubOneNewFolder\\\\SubTwoNewFolder')#Delete 2 or more foloder within this path\n",
    "os.getcwd()\n"
   ]
  },
  {
   "cell_type": "code",
   "execution_count": 6,
   "metadata": {},
   "outputs": [
    {
     "data": {
      "text/plain": [
       "['ClsFileHandling.txt',\n",
       " 'file.txt',\n",
       " 'file1.txt',\n",
       " 'file2.txt',\n",
       " 'newFolder',\n",
       " 'newFolder1',\n",
       " 'newFolder2',\n",
       " 'Students.txt',\n",
       " 'twelve.ipynb']"
      ]
     },
     "execution_count": 6,
     "metadata": {},
     "output_type": "execute_result"
    }
   ],
   "source": [
    "os.chdir('f:\\\\Python\\\\python\\\\12thClass')\n",
    "os.listdir()#give all front Folder and files under 12thClass folder "
   ]
  },
  {
   "cell_type": "code",
   "execution_count": 19,
   "metadata": {},
   "outputs": [
    {
     "name": "stdout",
     "output_type": "stream",
     "text": [
      "directoryPath: . DirectoryName: ['newFolder', 'newFolder1', 'newFolder2'] FileNames: ['ClsFileHandling.txt', 'file.txt', 'file1.txt', 'file2.txt', 'Students.txt', 'twelve.ipynb']\n",
      "directoryPath: .\\newFolder DirectoryName: ['SubOneNewFolder'] FileNames: ['file1.txt', 'MainFile.txt']\n",
      "directoryPath: .\\newFolder\\SubOneNewFolder DirectoryName: [] FileNames: []\n",
      "directoryPath: .\\newFolder1 DirectoryName: [] FileNames: []\n",
      "directoryPath: .\\newFolder2 DirectoryName: ['SubOneNewFolder'] FileNames: []\n",
      "directoryPath: .\\newFolder2\\SubOneNewFolder DirectoryName: [] FileNames: []\n"
     ]
    }
   ],
   "source": [
    "#Give All file and folder Information\n",
    "\n",
    "for p , n , f in os.walk('.'):\n",
    "    print('directoryPath:' , p , 'DirectoryName:' , n , 'FileNames:' , f)\n",
    "#os.getcwd()"
   ]
  },
  {
   "cell_type": "code",
   "execution_count": 8,
   "metadata": {},
   "outputs": [],
   "source": [
    "#Handling CSV File\n",
    "Data = [\n",
    "\n",
    "        [  '1' ,  'Anik' ,  'SE'],\n",
    "        [  '2' ,  'Shuvo' ,'BBA']\n",
    "\n",
    "]\n",
    "Header=[\n",
    "         ['Serial', 'Name', 'Dept']\n",
    "]"
   ]
  },
  {
   "cell_type": "code",
   "execution_count": 11,
   "metadata": {},
   "outputs": [],
   "source": [
    "import csv\n",
    "\n",
    "with open('Students.txt',mode='w' ,newline='' ) as st:#Given an object\n",
    "    writer = csv.writer(st, delimiter='|')\n",
    "    writer.writerows(Header )#given a function name writerow\n",
    "    writer.writerows(Data)"
   ]
  },
  {
   "cell_type": "code",
   "execution_count": 12,
   "metadata": {},
   "outputs": [
    {
     "name": "stdout",
     "output_type": "stream",
     "text": [
      "['Serial', 'Name', 'Dept']\n",
      "['1', 'Anik', 'SE']\n",
      "['2', 'Shuvo', 'BBA']\n"
     ]
    }
   ],
   "source": [
    "with open('Students.txt' , mode='r' , newline='')  as s:\n",
    "    reader=csv.reader(s, delimiter = '|')\n",
    "    for row in reader:\n",
    "        print(row)"
   ]
  },
  {
   "cell_type": "markdown",
   "metadata": {},
   "source": [
    "Task 1\n",
    "File System\n",
    "1. User can create, delete,update,write ,read a file\n",
    "\n",
    "Task 2\n",
    "Banking System\n",
    "1.Account:Creation,Deletion\n",
    "2.Transaction:Deposit,withdraw,Transfer"
   ]
  }
 ],
 "metadata": {
  "interpreter": {
   "hash": "6f3286a94e22de8ff5948a9c103fc84fc0d73fd4e82b66075ca633ecac3f2b43"
  },
  "kernelspec": {
   "display_name": "Python 3.9.6 64-bit",
   "name": "python3"
  },
  "language_info": {
   "codemirror_mode": {
    "name": "ipython",
    "version": 3
   },
   "file_extension": ".py",
   "mimetype": "text/x-python",
   "name": "python",
   "nbconvert_exporter": "python",
   "pygments_lexer": "ipython3",
   "version": "3.9.6"
  },
  "orig_nbformat": 4
 },
 "nbformat": 4,
 "nbformat_minor": 2
}
