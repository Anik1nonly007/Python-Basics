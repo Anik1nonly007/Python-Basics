{
 "cells": [
  {
   "cell_type": "markdown",
   "metadata": {},
   "source": [
    "# Data Structure"
   ]
  },
  {
   "cell_type": "code",
   "execution_count": 14,
   "metadata": {},
   "outputs": [
    {
     "data": {
      "text/plain": [
       "5"
      ]
     },
     "execution_count": 14,
     "metadata": {},
     "output_type": "execute_result"
    }
   ],
   "source": [
    "#Set\n",
    "\n",
    "s1={1,2,3,3,4,5,6,7,8,9,10,10}\n",
    "s2={12,4,11,19,14}\n",
    "type(s1)\n",
    "#s1[0]# Access Not possible\n",
    "s1.add(12)\n",
    "s1.remove(1)# remove value 1\n",
    "s1.pop()# remove 1st value\n",
    "s1.copy()\n",
    "#s1.clear()\n",
    "s1.union(s2)#prb 11 not added,why?\n",
    "s1.intersection(s2)\n",
    "s1.difference(s2)\n",
    "s2.difference(s1)\n",
    "s2.difference_update(s1)# 1st find out differences then update s2 var\n",
    "s2.discard(11)\n",
    "#s1.clear()\n",
    "s2.update({34,22,55})\n",
    "s1.symmetric_difference(s2)#print uncommon value of s1 and s2\n",
    "s1.issubset(s2)#is s1 subset of s2?\n",
    "{1,2,3,4}.issubset({1,2,3,4,5})# output true\n",
    "{1,2,3,4}.issuperset({1,2,3})#true\n",
    "len (s2)\n",
    "\n",
    "\n"
   ]
  },
  {
   "cell_type": "code",
   "execution_count": 25,
   "metadata": {},
   "outputs": [
    {
     "data": {
      "text/plain": [
       "{3: 'Anik',\n",
       " 2: 'shuvooo',\n",
       " 'Age': 26,\n",
       " 'Work': ['business', 'programmer'],\n",
       " 'Dept': 'SE'}"
      ]
     },
     "execution_count": 25,
     "metadata": {},
     "output_type": "execute_result"
    }
   ],
   "source": [
    "# Dictionary\n",
    "s3 = {3 : \"Anik\" , 2 : 'Shuvo' , 1 : 'Ayon' , 4 : \"any\" , \"Age\" : 24 , \"Work\" : [\"business\",\"programmer\"]}\n",
    "\n",
    "#Accessing\n",
    "s3[\"Age\"]\n",
    "\n",
    "#Updating\n",
    "s3[\"Age\"] = 25\n",
    "\n",
    "#delete\n",
    "del s3[1]\n",
    "\n",
    "#Add\n",
    "s3[\"Dept\"] = \"SE\"\n",
    "\n",
    "\n",
    "s3.get(\"departments\")\n",
    "s3.get(2)#Output Shuvo\n",
    "s3\n",
    "\n",
    "#Functions\n",
    "s3.items() ,s3.keys(),s3.values()\n",
    "s3.update(Age=26)\n",
    "s3.setdefault(5)\n",
    "s3\n",
    "s3.pop(4)\n",
    "s3.popitem()#Pop last Item or value\n",
    "type(s3)\n",
    "d1=s3.fromkeys([1,34,44])#update only key and null value\n",
    "s3.update({2:\"shuvooo\"})#update first shuvo \n",
    "s3\n"
   ]
  },
  {
   "cell_type": "code",
   "execution_count": 52,
   "metadata": {},
   "outputs": [
    {
     "name": "stdout",
     "output_type": "stream",
     "text": [
      "<class 'str'>\n",
      "3.0\n",
      "True\n",
      "(2+0j)\n"
     ]
    },
    {
     "data": {
      "text/plain": [
       "'(2+0j)'"
      ]
     },
     "execution_count": 52,
     "metadata": {},
     "output_type": "execute_result"
    }
   ],
   "source": [
    "# Keyword List And Type conversion\n",
    "import keyword\n",
    "keyword.kwlist\n",
    "\n",
    "n1= 'H'\n",
    "n='3'\n",
    "print (type(n))\n",
    "newN = int (n)\n",
    "type(newN)\n",
    "\n",
    "fn=float(newN)\n",
    "print(fn)\n",
    "\n",
    "bn = bool(fn)\n",
    "print(bn)\n",
    "\n",
    "c= complex(2)\n",
    "print(c)\n",
    "str(c)"
   ]
  },
  {
   "cell_type": "code",
   "execution_count": 6,
   "metadata": {},
   "outputs": [
    {
     "name": "stdout",
     "output_type": "stream",
     "text": [
      "no\n"
     ]
    }
   ],
   "source": [
    "#Calculator\n",
    "\n",
    "cal=input('enter 1 for Add 2 for sub')\n",
    "#sub=input('enter 2 sub')\n",
    "a = input(\"Enter First Number: \")\n",
    "b = input(\"Enter Second Number\")\n",
    "\n",
    "if cal==1:\n",
    "    c=a+b\n",
    "    print(c)\n",
    "\n",
    "elif cal == 2:\n",
    "    c=a-b\n",
    "    print(c)\n",
    "else:\n",
    "    print('no')"
   ]
  },
  {
   "cell_type": "code",
   "execution_count": null,
   "metadata": {},
   "outputs": [],
   "source": []
  }
 ],
 "metadata": {
  "interpreter": {
   "hash": "6f3286a94e22de8ff5948a9c103fc84fc0d73fd4e82b66075ca633ecac3f2b43"
  },
  "kernelspec": {
   "display_name": "Python 3.9.6 64-bit",
   "name": "python3"
  },
  "language_info": {
   "codemirror_mode": {
    "name": "ipython",
    "version": 3
   },
   "file_extension": ".py",
   "mimetype": "text/x-python",
   "name": "python",
   "nbconvert_exporter": "python",
   "pygments_lexer": "ipython3",
   "version": "3.9.6"
  },
  "orig_nbformat": 4
 },
 "nbformat": 4,
 "nbformat_minor": 2
}
